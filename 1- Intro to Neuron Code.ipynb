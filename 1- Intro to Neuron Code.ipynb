{
 "cells": [
  {
   "cell_type": "markdown",
   "id": "94a03fcf-5b75-4928-bf9c-770b0831e274",
   "metadata": {},
   "source": [
    "# An example of a network with a single neuron"
   ]
  },
  {
   "cell_type": "code",
   "execution_count": 1,
   "id": "f9d024f7-c8d1-4857-8183-870052432e27",
   "metadata": {},
   "outputs": [],
   "source": [
    "# assume the inputs are:\n",
    "inputs = [1.2, 5.1, 2.1]\n",
    "\n",
    "# every unique input has a unique weight\n",
    "weights = [3.1, 2.1, 8.7]\n",
    "\n",
    "# every unique neuron has a unique bias\n",
    "bias = 3"
   ]
  },
  {
   "cell_type": "code",
   "execution_count": 2,
   "id": "c4715cdd-6bc9-4850-bf84-1c07a884a58c",
   "metadata": {},
   "outputs": [],
   "source": [
    "# then, we apply matrix product\n",
    "output = inputs[0]*weights[0] + inputs[1]*weights[1] + inputs[2]*weights[2] + bias"
   ]
  },
  {
   "cell_type": "code",
   "execution_count": 3,
   "id": "89f0af73-2ac9-4b2e-bac5-b686a92027c3",
   "metadata": {},
   "outputs": [
    {
     "data": {
      "text/plain": [
       "35.7"
      ]
     },
     "execution_count": 3,
     "metadata": {},
     "output_type": "execute_result"
    }
   ],
   "source": [
    "# weight of the neuron:\n",
    "output"
   ]
  }
 ],
 "metadata": {
  "kernelspec": {
   "display_name": "Python 3",
   "language": "python",
   "name": "python3"
  },
  "language_info": {
   "codemirror_mode": {
    "name": "ipython",
    "version": 3
   },
   "file_extension": ".py",
   "mimetype": "text/x-python",
   "name": "python",
   "nbconvert_exporter": "python",
   "pygments_lexer": "ipython3",
   "version": "3.8.8"
  }
 },
 "nbformat": 4,
 "nbformat_minor": 5
}
