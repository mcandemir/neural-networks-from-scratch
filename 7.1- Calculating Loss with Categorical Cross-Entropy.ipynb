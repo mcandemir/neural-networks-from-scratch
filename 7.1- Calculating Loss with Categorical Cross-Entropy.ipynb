{
 "cells": [
  {
   "cell_type": "code",
   "execution_count": 1,
   "id": "2314760a-833f-4bf5-ab84-eeef3d8fe029",
   "metadata": {},
   "outputs": [],
   "source": [
    "import math"
   ]
  },
  {
   "cell_type": "code",
   "execution_count": 3,
   "id": "9f96bcfa-c943-45a1-97ff-396e4b28a316",
   "metadata": {},
   "outputs": [],
   "source": [
    "softmax_output = [0.7, 0.1, 0.2]\n",
    "target_output = [1, 0, 0]"
   ]
  },
  {
   "cell_type": "code",
   "execution_count": 6,
   "id": "e77b5a41-0488-4a74-ae08-87bd84f9d0dd",
   "metadata": {},
   "outputs": [],
   "source": [
    "loss = -(target_output[0] * math.log(softmax_output[0]) +\n",
    "         target_output[1] * math.log(softmax_output[1]) +\n",
    "         target_output[2] * math.log(softmax_output[2]))"
   ]
  },
  {
   "cell_type": "code",
   "execution_count": 7,
   "id": "e7ee1eaf-f34f-4c54-8598-5f431c8bf57a",
   "metadata": {},
   "outputs": [
    {
     "data": {
      "text/plain": [
       "0.35667494393873245"
      ]
     },
     "execution_count": 7,
     "metadata": {},
     "output_type": "execute_result"
    }
   ],
   "source": [
    "loss"
   ]
  },
  {
   "cell_type": "markdown",
   "id": "e73671fa-0816-4548-9846-369db2f0df7c",
   "metadata": {},
   "source": [
    "# With NumPy"
   ]
  },
  {
   "cell_type": "code",
   "execution_count": 8,
   "id": "2eac1c6f-b728-4eff-8323-d53503cd47a5",
   "metadata": {},
   "outputs": [],
   "source": [
    "import numpy as np"
   ]
  },
  {
   "cell_type": "code",
   "execution_count": 12,
   "id": "ed3b7f85-db02-4712-baf8-90ac4ac68615",
   "metadata": {},
   "outputs": [
    {
     "name": "stdout",
     "output_type": "stream",
     "text": [
      "[0.7 0.5 0.9]\n"
     ]
    }
   ],
   "source": [
    "# outputs of softmax function\n",
    "softmax_outputs = np.array([[0.7, 0.1, 0.2],\n",
    "                           [0.1, 0.5, 0.4],\n",
    "                           [0.02, 0.9, 0.08]])\n",
    "\n",
    "# in the code below, we take the\n",
    "# softmax data with respect to dimensions\n",
    "# 0 -> first row, 1-> second row\n",
    "# so in the end, we will have:\n",
    "# 0.1 from the first row, first column\n",
    "# 0.5 from the second row, second column\n",
    "# 0.9 from the third row, second column\n",
    "class_targets = [0, 1, 1]\n",
    "print(softmax_outputs[[0, 1, 2], class_targets])"
   ]
  },
  {
   "cell_type": "code",
   "execution_count": 15,
   "id": "fd3401f0-4d22-4bc7-9ee4-ed88b2d80ad5",
   "metadata": {},
   "outputs": [
    {
     "name": "stdout",
     "output_type": "stream",
     "text": [
      "[0.35667494 0.69314718 0.10536052]\n"
     ]
    }
   ],
   "source": [
    "# categorical cross entropy loss:\n",
    "print(-np.log(softmax_outputs[\n",
    "    range(len(softmax_outputs)), class_targets\n",
    "]))"
   ]
  }
 ],
 "metadata": {
  "kernelspec": {
   "display_name": "Python 3",
   "language": "python",
   "name": "python3"
  },
  "language_info": {
   "codemirror_mode": {
    "name": "ipython",
    "version": 3
   },
   "file_extension": ".py",
   "mimetype": "text/x-python",
   "name": "python",
   "nbconvert_exporter": "python",
   "pygments_lexer": "ipython3",
   "version": "3.8.8"
  }
 },
 "nbformat": 4,
 "nbformat_minor": 5
}
