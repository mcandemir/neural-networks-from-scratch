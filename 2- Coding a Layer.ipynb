{
 "cells": [
  {
   "cell_type": "markdown",
   "id": "dd2603f1-d2cc-4e37-9c86-8c366973605a",
   "metadata": {},
   "source": [
    "# 3 inputs, 1 neuron"
   ]
  },
  {
   "cell_type": "code",
   "execution_count": 1,
   "id": "f9d024f7-c8d1-4857-8183-870052432e27",
   "metadata": {},
   "outputs": [],
   "source": [
    "# assume the inputs are:\n",
    "inputs = [1, 2, 3, 2.5]\n",
    "\n",
    "# every unique input has a unique weight\n",
    "weights = [0.2, 0.8, -0.5, 1.0]\n",
    "\n",
    "# every unique neuron has a unique bias\n",
    "bias = 2"
   ]
  },
  {
   "cell_type": "code",
   "execution_count": 2,
   "id": "c4715cdd-6bc9-4850-bf84-1c07a884a58c",
   "metadata": {},
   "outputs": [],
   "source": [
    "# every unique input has a unique weight\n",
    "output = inputs[0]*weights[0] + inputs[1]*weights[1] + inputs[2]*weights[2] + inputs[3]*weights[3] + bias"
   ]
  },
  {
   "cell_type": "code",
   "execution_count": 3,
   "id": "89f0af73-2ac9-4b2e-bac5-b686a92027c3",
   "metadata": {},
   "outputs": [
    {
     "data": {
      "text/plain": [
       "4.8"
      ]
     },
     "execution_count": 3,
     "metadata": {},
     "output_type": "execute_result"
    }
   ],
   "source": [
    "# then, we apply matrix product\n",
    "output"
   ]
  },
  {
   "cell_type": "markdown",
   "id": "906799ed-7731-40e3-af23-555888b898f7",
   "metadata": {},
   "source": [
    "# 4 inputs, 3 neuron"
   ]
  },
  {
   "cell_type": "code",
   "execution_count": 4,
   "id": "f0ae6ea4-73f3-4185-85de-a87e29e8bafa",
   "metadata": {},
   "outputs": [],
   "source": [
    "# assume the inputs are:\n",
    "inputs = [1, 2, 3, 2.5]\n",
    "\n",
    "# every unique input has a unique weight\n",
    "weights1 = [0.2, 0.8, -0.5, 1.0]\n",
    "weights2 = [0.5, -0.91, 0.26, -0.5]\n",
    "weights3 = [-0.26, -0.27, 0.17, 0.87]\n",
    "\n",
    "# every unique neuron has a unique bias\n",
    "bias1 = 2\n",
    "bias2 = 3\n",
    "bias3 = 0.5"
   ]
  },
  {
   "cell_type": "code",
   "execution_count": 5,
   "id": "4852b3ee-46da-46c0-bd3c-0a08975d46bc",
   "metadata": {},
   "outputs": [],
   "source": [
    "# matrix product for each neuron\n",
    "output1, output2, output3 = 0, 0, 0\n",
    "for idx in range(len(inputs)):\n",
    "    output1 += inputs[idx]*weights1[idx]\n",
    "    output2 += inputs[idx]*weights2[idx]\n",
    "    output3 += inputs[idx]*weights3[idx]\n",
    "\n",
    "output1 += bias1\n",
    "output2 += bias2\n",
    "output3 += bias3"
   ]
  },
  {
   "cell_type": "code",
   "execution_count": 6,
   "id": "eacb2f6f-8fd4-48b0-a478-980e96c533e7",
   "metadata": {},
   "outputs": [
    {
     "name": "stdout",
     "output_type": "stream",
     "text": [
      "4.8 1.21 2.385\n"
     ]
    }
   ],
   "source": [
    "print(output1, output2, output3)"
   ]
  },
  {
   "cell_type": "code",
   "execution_count": null,
   "id": "ad34e722-06da-471a-b26b-b79a1cdeca3e",
   "metadata": {},
   "outputs": [],
   "source": []
  }
 ],
 "metadata": {
  "kernelspec": {
   "display_name": "Python 3",
   "language": "python",
   "name": "python3"
  },
  "language_info": {
   "codemirror_mode": {
    "name": "ipython",
    "version": 3
   },
   "file_extension": ".py",
   "mimetype": "text/x-python",
   "name": "python",
   "nbconvert_exporter": "python",
   "pygments_lexer": "ipython3",
   "version": "3.8.8"
  }
 },
 "nbformat": 4,
 "nbformat_minor": 5
}
