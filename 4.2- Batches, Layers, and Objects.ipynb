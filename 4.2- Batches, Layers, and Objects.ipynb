{
 "cells": [
  {
   "cell_type": "code",
   "execution_count": 1,
   "id": "002261ab-8a5c-4aeb-b42e-07f90c3d5f22",
   "metadata": {},
   "outputs": [],
   "source": [
    "import numpy as np"
   ]
  },
  {
   "cell_type": "code",
   "execution_count": 2,
   "id": "63e6f497-cc6c-4319-bce7-8e55dfde92a7",
   "metadata": {},
   "outputs": [],
   "source": [
    "np.random.seed(42)"
   ]
  },
  {
   "cell_type": "markdown",
   "id": "614ce158-045f-4a9f-887e-ee984a49e014",
   "metadata": {},
   "source": [
    "# Samples"
   ]
  },
  {
   "cell_type": "code",
   "execution_count": 3,
   "id": "29263bef-5e4a-42c9-8286-c935def5866e",
   "metadata": {},
   "outputs": [],
   "source": [
    "X = np.array([[1, 2, 3, 2.5],\n",
    "          [2.0, 5.0, -1.0, 2.0],\n",
    "          [-1.5, 2.7, 3.3, -0.8]])"
   ]
  },
  {
   "cell_type": "markdown",
   "id": "f4be4459-0bc0-480b-bd5a-ee440eb07bf1",
   "metadata": {},
   "source": [
    "# As an Object"
   ]
  },
  {
   "cell_type": "code",
   "execution_count": 4,
   "id": "198d61ad-b2bc-4f5b-a950-6ea2513240fd",
   "metadata": {},
   "outputs": [],
   "source": [
    "# the Dense Layer takes the batch size (num of samples) and the\n",
    "# number of neurons, which we deside as we desire\n",
    "# NOTE: the number of neurons effects the output's shape, \n",
    "# also the input of the next layer\n",
    "class Layer_Dense:\n",
    "    def __init__(self, n_inputs, n_neurons):\n",
    "        self.weights = 0.1 * np.random.randn(n_inputs, n_neurons)\n",
    "        self.biases = np.zeros((1, n_neurons))\n",
    "    def forward(self, inputs):\n",
    "        self.output = np.dot(inputs, self.weights) + self.biases"
   ]
  },
  {
   "cell_type": "code",
   "execution_count": 5,
   "id": "dc8576ca-7234-478a-9d3f-d5d3de9ecf05",
   "metadata": {},
   "outputs": [],
   "source": [
    "# assume X has 3 samples with 4 samples\n",
    "layer1 = Layer_Dense(X.shape[1], 5)"
   ]
  },
  {
   "cell_type": "code",
   "execution_count": 6,
   "id": "1c7d6ba5-6013-4278-872e-205e85107654",
   "metadata": {},
   "outputs": [],
   "source": [
    "layer2 = Layer_Dense(5, 2)"
   ]
  },
  {
   "cell_type": "markdown",
   "id": "7264e5eb-2bc1-4fc6-aa5e-10388c5ab45d",
   "metadata": {},
   "source": [
    "# Forward"
   ]
  },
  {
   "cell_type": "code",
   "execution_count": 7,
   "id": "74a96f91-6fd7-4f02-94ef-43c09cf14a8d",
   "metadata": {},
   "outputs": [
    {
     "name": "stdout",
     "output_type": "stream",
     "text": [
      "[[-0.27675317 -0.09091057  0.36940631 -0.74258198 -0.7854546 ]\n",
      " [-0.08384138  0.6059603   0.55190831  0.07959199  0.11448039]\n",
      " [-0.24566894  0.37446278  0.16476186 -0.91395312 -0.27462437]]\n"
     ]
    }
   ],
   "source": [
    "layer1.forward(X)\n",
    "print(layer1.output)"
   ]
  },
  {
   "cell_type": "code",
   "execution_count": 8,
   "id": "631a9a30-eefe-4f79-b4a7-1c9263347277",
   "metadata": {},
   "outputs": [
    {
     "name": "stdout",
     "output_type": "stream",
     "text": [
      "[[ 0.07136211  0.01831101]\n",
      " [-0.05427832 -0.0786683 ]\n",
      " [ 0.07924331 -0.07230373]]\n"
     ]
    }
   ],
   "source": [
    "layer2.forward(layer1.output)\n",
    "print(layer2.output)"
   ]
  },
  {
   "cell_type": "code",
   "execution_count": null,
   "id": "3aeb508b-d03a-452a-b2c2-9bd7fc21548c",
   "metadata": {},
   "outputs": [],
   "source": []
  },
  {
   "cell_type": "code",
   "execution_count": null,
   "id": "5dd761e4-1bdd-4923-82e7-b706bf754b3b",
   "metadata": {},
   "outputs": [],
   "source": []
  },
  {
   "cell_type": "code",
   "execution_count": null,
   "id": "11cfeb97-a244-4818-a332-8610139707f5",
   "metadata": {},
   "outputs": [],
   "source": []
  },
  {
   "cell_type": "code",
   "execution_count": null,
   "id": "23b1c396-4116-4f15-9c6e-347461c96aa1",
   "metadata": {},
   "outputs": [],
   "source": []
  }
 ],
 "metadata": {
  "kernelspec": {
   "display_name": "Python 3",
   "language": "python",
   "name": "python3"
  },
  "language_info": {
   "codemirror_mode": {
    "name": "ipython",
    "version": 3
   },
   "file_extension": ".py",
   "mimetype": "text/x-python",
   "name": "python",
   "nbconvert_exporter": "python",
   "pygments_lexer": "ipython3",
   "version": "3.8.8"
  }
 },
 "nbformat": 4,
 "nbformat_minor": 5
}
