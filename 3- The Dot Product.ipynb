{
 "cells": [
  {
   "cell_type": "markdown",
   "id": "906799ed-7731-40e3-af23-555888b898f7",
   "metadata": {},
   "source": [
    "# 4 inputs, 3 neuron"
   ]
  },
  {
   "cell_type": "code",
   "execution_count": 1,
   "id": "f0ae6ea4-73f3-4185-85de-a87e29e8bafa",
   "metadata": {},
   "outputs": [],
   "source": [
    "# assume the inputs are:\n",
    "inputs = [1, 2, 3, 2.5]\n",
    "\n",
    "# every unique input has a unique weight\n",
    "weights = [[0.2, 0.8, -0.5, 1.0],\n",
    "           [0.5, -0.91, 0.26, -0.5],\n",
    "           [-0.26, -0.27, 0.17, 0.87]]\n",
    "\n",
    "# every unique neuron has a unique bias\n",
    "biases = [2, 3, 0.5]"
   ]
  },
  {
   "cell_type": "code",
   "execution_count": 2,
   "id": "4852b3ee-46da-46c0-bd3c-0a08975d46bc",
   "metadata": {},
   "outputs": [
    {
     "name": "stdout",
     "output_type": "stream",
     "text": [
      "[4.8, 1.21, 2.385]\n"
     ]
    }
   ],
   "source": [
    "# associate each weight layer with a bias, and calculated the \n",
    "# matrix product for each neuron in the layer\n",
    "layer_outputs = []\n",
    "for neuron_weights, neuron_bias in zip(weights, biases):\n",
    "    neuron_output = 0\n",
    "    for n_input, weight in zip(inputs, neuron_weights):\n",
    "        neuron_output += n_input*weight\n",
    "    neuron_output +=neuron_bias\n",
    "    layer_outputs.append(neuron_output)\n",
    "\n",
    "print(layer_outputs)"
   ]
  },
  {
   "cell_type": "markdown",
   "id": "16d18945-ad41-4ac7-86e2-912a59fa80ef",
   "metadata": {},
   "source": [
    "# Dot Product Using Numpy"
   ]
  },
  {
   "cell_type": "code",
   "execution_count": 3,
   "id": "002261ab-8a5c-4aeb-b42e-07f90c3d5f22",
   "metadata": {},
   "outputs": [],
   "source": [
    "import numpy as np"
   ]
  },
  {
   "cell_type": "code",
   "execution_count": 4,
   "id": "1bafc5ff-8ec1-4cdf-a9d1-b21fd67ab38a",
   "metadata": {},
   "outputs": [
    {
     "data": {
      "text/plain": [
       "array([4.8  , 1.21 , 2.385])"
      ]
     },
     "execution_count": 4,
     "metadata": {},
     "output_type": "execute_result"
    }
   ],
   "source": [
    "output = np.dot(weights, inputs) + biases\n",
    "output"
   ]
  },
  {
   "cell_type": "code",
   "execution_count": null,
   "id": "fcd8566f-3e2b-4209-8381-3116bd265f26",
   "metadata": {},
   "outputs": [],
   "source": []
  }
 ],
 "metadata": {
  "kernelspec": {
   "display_name": "Python 3",
   "language": "python",
   "name": "python3"
  },
  "language_info": {
   "codemirror_mode": {
    "name": "ipython",
    "version": 3
   },
   "file_extension": ".py",
   "mimetype": "text/x-python",
   "name": "python",
   "nbconvert_exporter": "python",
   "pygments_lexer": "ipython3",
   "version": "3.8.8"
  }
 },
 "nbformat": 4,
 "nbformat_minor": 5
}
