{
 "cells": [
  {
   "cell_type": "code",
   "execution_count": 1,
   "id": "002261ab-8a5c-4aeb-b42e-07f90c3d5f22",
   "metadata": {},
   "outputs": [],
   "source": [
    "import numpy as np"
   ]
  },
  {
   "cell_type": "markdown",
   "id": "ec6c76dc-c695-42e8-bbe9-7e87bc886e13",
   "metadata": {},
   "source": [
    "# Inputs"
   ]
  },
  {
   "cell_type": "code",
   "execution_count": 2,
   "id": "29263bef-5e4a-42c9-8286-c935def5866e",
   "metadata": {},
   "outputs": [],
   "source": [
    "inputs = np.array([[1, 2, 3, 2.5],\n",
    "          [2.0, 5.0, -1.0, 2.0],\n",
    "          [-1.5, 2.7, 3.3, -0.8]])"
   ]
  },
  {
   "cell_type": "markdown",
   "id": "77ab2ba0-6fa9-452e-ad37-1845bf4baac3",
   "metadata": {},
   "source": [
    "# Layer 1"
   ]
  },
  {
   "cell_type": "code",
   "execution_count": 3,
   "id": "f0ae6ea4-73f3-4185-85de-a87e29e8bafa",
   "metadata": {},
   "outputs": [],
   "source": [
    "# every unique input has a unique weight\n",
    "weights1 = np.array([[0.2, 0.8, -0.5, 1.0],\n",
    "           [0.5, -0.91, 0.26, -0.5],\n",
    "           [-0.26, -0.27, 0.17, 0.87]])\n",
    "\n",
    "# every unique neuron has a unique bias\n",
    "biases1 = np.array([2, 3, 0.5])"
   ]
  },
  {
   "cell_type": "markdown",
   "id": "984fd2c2-bd6e-4baa-9ccc-b0a244656518",
   "metadata": {},
   "source": [
    "# Layer 2"
   ]
  },
  {
   "cell_type": "code",
   "execution_count": 4,
   "id": "71510792-4ad6-44ae-baef-202495de6f32",
   "metadata": {},
   "outputs": [],
   "source": [
    "# every unique input has a unique weight\n",
    "weights2 = np.array([[0.1, -0.14, 0.5],\n",
    "           [-0.5, 0.12, -0.33],\n",
    "           [-0.44, 0.73, -0.13]])\n",
    "\n",
    "# every unique neuron has a unique bias\n",
    "biases2 = np.array([-1, 2, 0.5])"
   ]
  },
  {
   "cell_type": "markdown",
   "id": "16d18945-ad41-4ac7-86e2-912a59fa80ef",
   "metadata": {},
   "source": [
    "# Layer 1 output"
   ]
  },
  {
   "cell_type": "code",
   "execution_count": 5,
   "id": "1bafc5ff-8ec1-4cdf-a9d1-b21fd67ab38a",
   "metadata": {},
   "outputs": [
    {
     "data": {
      "text/plain": [
       "array([[ 4.8  ,  1.21 ,  2.385],\n",
       "       [ 8.9  , -1.81 ,  0.2  ],\n",
       "       [ 1.41 ,  1.051,  0.026]])"
      ]
     },
     "execution_count": 5,
     "metadata": {},
     "output_type": "execute_result"
    }
   ],
   "source": [
    "# we calculate the first layer's outputs\n",
    "layer1_output = np.dot(inputs, weights1.T) + biases1\n",
    "layer1_output"
   ]
  },
  {
   "cell_type": "markdown",
   "id": "2610c6bf-5e10-4b24-9c08-86395699ad19",
   "metadata": {},
   "source": [
    "# Layer 2 output"
   ]
  },
  {
   "cell_type": "code",
   "execution_count": 6,
   "id": "bfe53ca9-3122-4bf4-8304-a2689d9d5a9c",
   "metadata": {},
   "outputs": [
    {
     "data": {
      "text/plain": [
       "array([[ 0.5031 , -1.04185, -1.03875],\n",
       "       [ 0.2434 , -2.7332 , -4.7633 ],\n",
       "       [-0.99314,  1.41254,  0.64345]])"
      ]
     },
     "execution_count": 6,
     "metadata": {},
     "output_type": "execute_result"
    }
   ],
   "source": [
    "# and then, we use the previous layer's outputs as an input for the next layer\n",
    "layer2_output = np.dot(layer1_output, weights2.T) + biases2\n",
    "layer2_output"
   ]
  },
  {
   "cell_type": "code",
   "execution_count": null,
   "id": "54d817ca-deaa-42da-b9a2-9895ef92a33e",
   "metadata": {},
   "outputs": [],
   "source": []
  }
 ],
 "metadata": {
  "kernelspec": {
   "display_name": "Python 3",
   "language": "python",
   "name": "python3"
  },
  "language_info": {
   "codemirror_mode": {
    "name": "ipython",
    "version": 3
   },
   "file_extension": ".py",
   "mimetype": "text/x-python",
   "name": "python",
   "nbconvert_exporter": "python",
   "pygments_lexer": "ipython3",
   "version": "3.8.8"
  }
 },
 "nbformat": 4,
 "nbformat_minor": 5
}
