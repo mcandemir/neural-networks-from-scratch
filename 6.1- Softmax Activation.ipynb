{
 "cells": [
  {
   "cell_type": "code",
   "execution_count": 1,
   "id": "a48128e2-7265-40d1-891f-296ab7fe0c2c",
   "metadata": {},
   "outputs": [],
   "source": [
    "import numpy as np"
   ]
  },
  {
   "cell_type": "markdown",
   "id": "fd9c0d6a-79ef-4042-a8c8-cca469486380",
   "metadata": {},
   "source": [
    "# Softmax"
   ]
  },
  {
   "cell_type": "code",
   "execution_count": 2,
   "id": "8c7ab391-a37f-4e5d-9420-566da1b75854",
   "metadata": {},
   "outputs": [],
   "source": [
    "layer_outputs = [4.8, 1.12, 2.385]"
   ]
  },
  {
   "cell_type": "code",
   "execution_count": 15,
   "id": "d7cb753b-be3f-429d-a1e5-789f4c49e3e2",
   "metadata": {},
   "outputs": [
    {
     "data": {
      "text/plain": [
       "array([121.51041752,   3.0648542 ,  10.85906266])"
      ]
     },
     "execution_count": 15,
     "metadata": {},
     "output_type": "execute_result"
    }
   ],
   "source": [
    "exp_values = np.exp(layer_outputs)\n",
    "exp_values"
   ]
  },
  {
   "cell_type": "code",
   "execution_count": 16,
   "id": "32089348-5eba-4fd2-9cae-9871a54b927b",
   "metadata": {},
   "outputs": [
    {
     "data": {
      "text/plain": [
       "[0.8971906427477128, 0.022629817004426896, 0.08017954024786043]"
      ]
     },
     "execution_count": 16,
     "metadata": {},
     "output_type": "execute_result"
    }
   ],
   "source": [
    "# normalize with exponentials\n",
    "normalized = []\n",
    "norm_base = np.sum(exp_values)\n",
    "for value in exp_values:\n",
    "    normalized.append(value/norm_base)\n",
    "normalized"
   ]
  },
  {
   "cell_type": "markdown",
   "id": "02d3f1cb-d7a6-4e55-93ea-cb462d6cc5dc",
   "metadata": {},
   "source": [
    "# As an Object"
   ]
  },
  {
   "cell_type": "code",
   "execution_count": 17,
   "id": "069b64a3-1723-4c01-afc3-1ad27ac22ef2",
   "metadata": {},
   "outputs": [],
   "source": [
    "# as batches\n",
    "layer_outputs = [[4.8, 1.12, 2.385],\n",
    "                [8.9, -1.81, 0.2],\n",
    "                [1.41, 1.051, 0.026]]"
   ]
  },
  {
   "cell_type": "code",
   "execution_count": 37,
   "id": "3b6ce7aa-9e50-472f-8269-39d5e0f6abe7",
   "metadata": {},
   "outputs": [],
   "source": [
    "class Activation_Softmax:\n",
    "    def __init__(self, inputs, n_neurons):\n",
    "        self.weights = np.exp(layer_outputs)\n",
    "        \n",
    "        # keepdims -> keeps the dimensions as the same as before\n",
    "        self.norm_base = np.sum(self.weights, axis=1, keepdims=True)\n",
    "        self.weights = self.weights / self.norm_base\n",
    "        \n",
    "        \n",
    "    def forward(self, inputs):\n",
    "        pass"
   ]
  },
  {
   "cell_type": "code",
   "execution_count": 38,
   "id": "afed70a6-4859-47da-a50a-dc49a46b75da",
   "metadata": {},
   "outputs": [],
   "source": [
    "softmax_layer = Activation_Softmax(layer_outputs, 5)"
   ]
  },
  {
   "cell_type": "code",
   "execution_count": 39,
   "id": "fa83af93-dace-4f6d-bb35-e2b88fa617e2",
   "metadata": {},
   "outputs": [
    {
     "data": {
      "text/plain": [
       "array([[8.97190643e-01, 2.26298170e-02, 8.01795402e-02],\n",
       "       [9.99811129e-01, 2.23163963e-05, 1.66554348e-04],\n",
       "       [5.13097164e-01, 3.58333899e-01, 1.28568936e-01]])"
      ]
     },
     "execution_count": 39,
     "metadata": {},
     "output_type": "execute_result"
    }
   ],
   "source": [
    "softmax_layer.weights"
   ]
  },
  {
   "cell_type": "code",
   "execution_count": 40,
   "id": "f153d264-b145-467d-8fd8-59d87e3865ae",
   "metadata": {},
   "outputs": [
    {
     "data": {
      "text/plain": [
       "array([[ 135.43433439],\n",
       "       [7333.35859605],\n",
       "       [   7.98280655]])"
      ]
     },
     "execution_count": 40,
     "metadata": {},
     "output_type": "execute_result"
    }
   ],
   "source": [
    "softmax_layer.norm_base"
   ]
  },
  {
   "cell_type": "code",
   "execution_count": null,
   "id": "a3759364-ebf3-444a-85b0-ed3e7c2e842e",
   "metadata": {},
   "outputs": [],
   "source": []
  }
 ],
 "metadata": {
  "kernelspec": {
   "display_name": "Python 3",
   "language": "python",
   "name": "python3"
  },
  "language_info": {
   "codemirror_mode": {
    "name": "ipython",
    "version": 3
   },
   "file_extension": ".py",
   "mimetype": "text/x-python",
   "name": "python",
   "nbconvert_exporter": "python",
   "pygments_lexer": "ipython3",
   "version": "3.8.8"
  }
 },
 "nbformat": 4,
 "nbformat_minor": 5
}
